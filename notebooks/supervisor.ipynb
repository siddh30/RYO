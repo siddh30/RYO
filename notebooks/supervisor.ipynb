{
 "cells": [
  {
   "cell_type": "markdown",
   "id": "e868a229",
   "metadata": {},
   "source": [
    "# Main Supervisor (The CEO)"
   ]
  },
  {
   "cell_type": "code",
   "execution_count": null,
   "id": "54f92d4e",
   "metadata": {},
   "outputs": [],
   "source": [
    "\n",
    "# supervisor = create_supervisor(\n",
    "#     model=init_chat_model(\"openai:gpt-4.1\"),\n",
    "#     supervisor_name= 'The CEO',\n",
    "#     agents=[research_agent, math_agent],\n",
    "#     prompt=(\n",
    "#         \"You are a supervisor managing two agents:\\n\"\n",
    "#         \"- a research agent. Assign research-related tasks to this agent\\n\"\n",
    "#         \"- a math agent. Assign math-related tasks to this agent\\n\"\n",
    "#         \"Assign work to one agent at a time, do not call agents in parallel.\\n\"\n",
    "#         \"Do not do any work yourself.\"\n",
    "#     ),\n",
    "#     add_handoff_back_messages=True,\n",
    "#     output_mode=\"full_history\",\n",
    "# ).compile()"
   ]
  }
 ],
 "metadata": {
  "language_info": {
   "name": "python"
  }
 },
 "nbformat": 4,
 "nbformat_minor": 5
}
