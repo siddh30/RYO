{
 "cells": [
  {
   "cell_type": "code",
   "execution_count": 50,
   "id": "f952a639",
   "metadata": {},
   "outputs": [],
   "source": [
    "######### React agent ############\n",
    "from langgraph.prebuilt import create_react_agent\n",
    "from langgraph.checkpoint.memory import InMemorySaver\n",
    "\n",
    "###### Tool \n",
    "from langchain_core.tools import tool\n",
    "from langchain_core.tools import Tool\n",
    "\n",
    "\n",
    "\n",
    "from datetime import datetime\n",
    "import sys\n",
    "sys.path.append('../')\n",
    "\n",
    "###### From config #######\n",
    "from config import Config\n",
    "conf = Config()\n",
    "\n",
    "##### News Agent ###\n",
    "from agents.news_agent import news_agent \n"
   ]
  },
  {
   "cell_type": "markdown",
   "id": "b0cc61ec",
   "metadata": {},
   "source": [
    "#### Testing Pinging Functionality"
   ]
  },
  {
   "cell_type": "code",
   "execution_count": 51,
   "id": "b15ac7be",
   "metadata": {},
   "outputs": [
    {
     "name": "stdout",
     "output_type": "stream",
     "text": [
      "ping\n"
     ]
    }
   ],
   "source": [
    "while True:\n",
    "    now = datetime.now()\n",
    "    if now.hour >= 11 and now.minute >= 17:\n",
    "        print(\"ping\")\n",
    "        break"
   ]
  },
  {
   "cell_type": "code",
   "execution_count": 52,
   "id": "65559273",
   "metadata": {},
   "outputs": [],
   "source": [
    "## 1. subtraction\n",
    "@tool\n",
    "def get_curr_datetime():\n",
    "\n",
    "    \"\"\" This is an function to get the current date and time\"\"\"\n",
    "    # Format the main string\n",
    "    formatted = datetime.now().strftime(\"%I:%M %p on %B %d, %Y\")\n",
    "    # Remove leading zero from hour if present\n",
    "    if formatted.startswith(\"0\"):\n",
    "        formatted = formatted[1:]\n",
    "    return formatted\n",
    "    "
   ]
  },
  {
   "cell_type": "code",
   "execution_count": 58,
   "id": "64bbf52e",
   "metadata": {},
   "outputs": [],
   "source": [
    "current_date_time_tool = Tool(name = \"Current_Date_and_Time\",     # name of the tool; space not allowed\n",
    "            func = get_curr_datetime,\n",
    "            description = \"A tool that gets the current date and time\"\n",
    "        )\n",
    "\n",
    "tools = [current_date_time_tool]"
   ]
  },
  {
   "cell_type": "code",
   "execution_count": 61,
   "id": "eafc5795",
   "metadata": {},
   "outputs": [],
   "source": [
    "reminder_agent = create_react_agent(\n",
    "model = conf.model,\n",
    "tools = tools,\n",
    "name =  \"Reminder_Agent\",\n",
    "prompt = \"You are an agent to help track and save reminders. Your job is to get current date using the below tools\",\n",
    "checkpointer= InMemorySaver(),\n",
    "\n",
    ") "
   ]
  },
  {
   "cell_type": "code",
   "execution_count": 62,
   "id": "ffe78717",
   "metadata": {},
   "outputs": [
    {
     "data": {
      "text/plain": [
       "{'messages': [HumanMessage(content='What is the current date?', additional_kwargs={}, response_metadata={}, id='eecc1d45-59f0-4e87-bb5a-d4de0c7aaa70'),\n",
       "  AIMessage(content='', additional_kwargs={'tool_calls': [{'id': 'call_9n2cwRbCE9E5zLR6tucYuwl2', 'function': {'arguments': '{\"__arg1\":\"Get the current date\"}', 'name': 'Current_Date_and_Time'}, 'type': 'function'}], 'refusal': None}, response_metadata={'token_usage': {'completion_tokens': 21, 'prompt_tokens': 85, 'total_tokens': 106, 'completion_tokens_details': {'accepted_prediction_tokens': 0, 'audio_tokens': 0, 'reasoning_tokens': 0, 'rejected_prediction_tokens': 0}, 'prompt_tokens_details': {'audio_tokens': 0, 'cached_tokens': 0}}, 'model_name': 'gpt-4o-2024-08-06', 'system_fingerprint': 'fp_07871e2ad8', 'id': 'chatcmpl-BijvOZJKcf9IqFvsf82cW921dWdZT', 'service_tier': 'default', 'finish_reason': 'tool_calls', 'logprobs': None}, name='Reminder_Agent', id='run--db9c2134-2360-4484-9ef2-2b4540449e7d-0', tool_calls=[{'name': 'Current_Date_and_Time', 'args': {'__arg1': 'Get the current date'}, 'id': 'call_9n2cwRbCE9E5zLR6tucYuwl2', 'type': 'tool_call'}], usage_metadata={'input_tokens': 85, 'output_tokens': 21, 'total_tokens': 106, 'input_token_details': {'audio': 0, 'cache_read': 0}, 'output_token_details': {'audio': 0, 'reasoning': 0}}),\n",
       "  ToolMessage(content='11:51 AM on June 15, 2025', name='Current_Date_and_Time', id='ede5d827-4e4e-458f-b879-baeaff89c2d6', tool_call_id='call_9n2cwRbCE9E5zLR6tucYuwl2'),\n",
       "  AIMessage(content='The current date is June 15, 2025.', additional_kwargs={'refusal': None}, response_metadata={'token_usage': {'completion_tokens': 13, 'prompt_tokens': 132, 'total_tokens': 145, 'completion_tokens_details': {'accepted_prediction_tokens': 0, 'audio_tokens': 0, 'reasoning_tokens': 0, 'rejected_prediction_tokens': 0}, 'prompt_tokens_details': {'audio_tokens': 0, 'cached_tokens': 0}}, 'model_name': 'gpt-4o-2024-08-06', 'system_fingerprint': 'fp_07871e2ad8', 'id': 'chatcmpl-BijvPCKRlx6IE8T4E4UkH0mpvBxE5', 'service_tier': 'default', 'finish_reason': 'stop', 'logprobs': None}, name='Reminder_Agent', id='run--15450db7-193f-44e9-bdd7-d770df6b0027-0', usage_metadata={'input_tokens': 132, 'output_tokens': 13, 'total_tokens': 145, 'input_token_details': {'audio': 0, 'cache_read': 0}, 'output_token_details': {'audio': 0, 'reasoning': 0}})]}"
      ]
     },
     "execution_count": 62,
     "metadata": {},
     "output_type": "execute_result"
    }
   ],
   "source": [
    "reminder_agent.invoke(\n",
    "    {\"messages\": [{\"role\": \"user\", \"content\": \"What is the current date?\"}]},\n",
    "    conf.news_agent_configs\n",
    ")"
   ]
  },
  {
   "cell_type": "code",
   "execution_count": null,
   "id": "74cf39f9",
   "metadata": {},
   "outputs": [],
   "source": []
  }
 ],
 "metadata": {
  "kernelspec": {
   "display_name": "AgenticAI-env",
   "language": "python",
   "name": "python3"
  },
  "language_info": {
   "codemirror_mode": {
    "name": "ipython",
    "version": 3
   },
   "file_extension": ".py",
   "mimetype": "text/x-python",
   "name": "python",
   "nbconvert_exporter": "python",
   "pygments_lexer": "ipython3",
   "version": "3.13.3"
  }
 },
 "nbformat": 4,
 "nbformat_minor": 5
}
