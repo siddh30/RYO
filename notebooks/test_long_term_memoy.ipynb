{
 "cells": [
  {
   "cell_type": "code",
   "execution_count": 42,
   "id": "7484b1d8",
   "metadata": {},
   "outputs": [
    {
     "data": {
      "text/plain": [
       "True"
      ]
     },
     "execution_count": 42,
     "metadata": {},
     "output_type": "execute_result"
    }
   ],
   "source": [
    "import sys\n",
    "sys.path.append(\"../\")\n",
    "\n",
    "from config import Config\n",
    "conf = Config()\n",
    "\n",
    "from langchain.embeddings import init_embeddings\n",
    "from langgraph.store.memory import InMemoryStore\n",
    "\n",
    "from typing import Optional \n",
    "from langchain.chat_models import init_chat_model\n",
    "from langgraph.store.base import BaseStore\n",
    "from langgraph.graph import START, MessagesState, StateGraph\n",
    "\n",
    "######### ENV #########\n",
    "from dotenv import load_dotenv\n",
    "\n",
    "import pickle\n",
    "\n",
    "load_dotenv()\n",
    "\n",
    "\n",
    "\n"
   ]
  },
  {
   "cell_type": "code",
   "execution_count": 43,
   "id": "8976afb1",
   "metadata": {},
   "outputs": [],
   "source": [
    "embeddings = init_embeddings('openai: text-embedding-3-small')\n",
    "\n",
    "store = InMemoryStore(\n",
    "    index = {\"embed\": embeddings,\n",
    "    \"dim\" : 1536}\n",
    ")\n",
    "\n",
    "namespace = (\"user_1\", \"memories\")\n",
    "\n",
    "\n",
    "llm = init_chat_model(\"openai:gpt-4o\")"
   ]
  },
  {
   "cell_type": "code",
   "execution_count": null,
   "id": "f70f8daf",
   "metadata": {},
   "outputs": [],
   "source": [
    "def chat(state, *, store:BaseStore):\n",
    "    msg = state[\"messages\"][-1]\n",
    "    print(f\"My message or my query {msg}\")\n",
    "\n",
    "    update_key=1\n",
    "    if list(store._data.values()) != []:\n",
    "        update_key = int(list(list(store._data.values())[0].keys())[-1]) + 1\n",
    "\n",
    "    print(update_key)\n",
    "\n",
    "    store.put(namespace, update_key, {\"text\": msg.content})\n",
    "\n",
    "    items = store.search(namespace, query=msg.content, limit=5)\n",
    "    memories = \"\\n\".join(item.value['text'] for item in items)\n",
    "    print(memories)\n",
    "    memories_prompt = f\" ## Memories of user \\n{memories}\" if memories else \"\"\n",
    "    response = llm.invoke(\n",
    "        [\n",
    "            {\"role\": \"system\",\n",
    "            \"content\" : f\" You are a helpful assistant. \\n{memories_prompt}\"},\n",
    "            *state[\"messages\"]\n",
    "        ]\n",
    "    )\n",
    "\n",
    "    return {\"messages\" : [response]}"
   ]
  },
  {
   "cell_type": "code",
   "execution_count": 45,
   "id": "bf37eccf",
   "metadata": {},
   "outputs": [
    {
     "data": {
      "image/png": "[encoded data removed]",
      "text/plain": [
       "<langgraph.graph.state.CompiledStateGraph object at 0x1199e9370>"
      ]
     },
     "execution_count": 45,
     "metadata": {},
     "output_type": "execute_result"
    }
   ],
   "source": [
    "builder = StateGraph(MessagesState)\n",
    "builder.add_node(chat)\n",
    "builder.add_edge(START, \"chat\")\n",
    "graph  = builder.compile(store=store)\n",
    "graph"
   ]
  },
  {
   "cell_type": "code",
   "execution_count": 46,
   "id": "f9cdf245",
   "metadata": {},
   "outputs": [
    {
     "name": "stdout",
     "output_type": "stream",
     "text": [
      "My message or my query content='remember my name is Siddharth' additional_kwargs={} response_metadata={} id='ae55198e-2389-4e1c-874b-3ca9618d7c11'\n",
      "1\n",
      "remember my name is Siddharth\n"
     ]
    },
    {
     "data": {
      "text/plain": [
       "{'messages': [HumanMessage(content='remember my name is Siddharth', additional_kwargs={}, response_metadata={}, id='ae55198e-2389-4e1c-874b-3ca9618d7c11'),\n",
       "  AIMessage(content='Got it! Your name is Siddharth. How can I assist you today?', additional_kwargs={'refusal': None}, response_metadata={'token_usage': {'completion_tokens': 17, 'prompt_tokens': 37, 'total_tokens': 54, 'completion_tokens_details': {'accepted_prediction_tokens': 0, 'audio_tokens': 0, 'reasoning_tokens': 0, 'rejected_prediction_tokens': 0}, 'prompt_tokens_details': {'audio_tokens': 0, 'cached_tokens': 0}}, 'model_name': 'gpt-4o-2024-08-06', 'system_fingerprint': 'fp_07871e2ad8', 'id': 'chatcmpl-BivPm4OhPQxvBDvUxZvVY7S5GiJwv', 'service_tier': 'default', 'finish_reason': 'stop', 'logprobs': None}, id='run--fde6eea5-1fbf-471e-939e-7679c59ca2ce-0', usage_metadata={'input_tokens': 37, 'output_tokens': 17, 'total_tokens': 54, 'input_token_details': {'audio': 0, 'cache_read': 0}, 'output_token_details': {'audio': 0, 'reasoning': 0}})]}"
      ]
     },
     "execution_count": 46,
     "metadata": {},
     "output_type": "execute_result"
    }
   ],
   "source": [
    "graph.invoke(input = {\"messages\": [{\"role\": \"user\", \"content\" : \"remember my name is Siddharth\"}]})"
   ]
  },
  {
   "cell_type": "code",
   "execution_count": 47,
   "id": "40222e45",
   "metadata": {},
   "outputs": [
    {
     "name": "stdout",
     "output_type": "stream",
     "text": [
      "My message or my query content='also remember I am data scientist!' additional_kwargs={} response_metadata={} id='11f34a3d-6ffa-41e9-a3d2-00f2201e4dce'\n",
      "2\n",
      "also remember I am data scientist!\n",
      "remember my name is Siddharth\n"
     ]
    },
    {
     "data": {
      "text/plain": [
       "{'messages': [HumanMessage(content='also remember I am data scientist!', additional_kwargs={}, response_metadata={}, id='11f34a3d-6ffa-41e9-a3d2-00f2201e4dce'),\n",
       "  AIMessage(content=\"Got it! I'll remember that you're a data scientist. Is there anything else you'd like me to know?\", additional_kwargs={'refusal': None}, response_metadata={'token_usage': {'completion_tokens': 21, 'prompt_tokens': 44, 'total_tokens': 65, 'completion_tokens_details': {'accepted_prediction_tokens': 0, 'audio_tokens': 0, 'reasoning_tokens': 0, 'rejected_prediction_tokens': 0}, 'prompt_tokens_details': {'audio_tokens': 0, 'cached_tokens': 0}}, 'model_name': 'gpt-4o-2024-08-06', 'system_fingerprint': 'fp_07871e2ad8', 'id': 'chatcmpl-BivPrH7V8lXJgCDbiHekcILg65WEl', 'service_tier': 'default', 'finish_reason': 'stop', 'logprobs': None}, id='run--5c495427-c618-4585-b241-9b4dbdfc39ca-0', usage_metadata={'input_tokens': 44, 'output_tokens': 21, 'total_tokens': 65, 'input_token_details': {'audio': 0, 'cache_read': 0}, 'output_token_details': {'audio': 0, 'reasoning': 0}})]}"
      ]
     },
     "execution_count": 47,
     "metadata": {},
     "output_type": "execute_result"
    }
   ],
   "source": [
    "graph.invoke(input = {\"messages\": [{\"role\": \"user\", \"content\" : \"also remember I am data scientist!\"}]})"
   ]
  },
  {
   "cell_type": "code",
   "execution_count": 48,
   "id": "327a7e6e",
   "metadata": {},
   "outputs": [],
   "source": [
    "# def save_object(obj, filename):\n",
    "#     with open(filename, 'wb') as outp:\n",
    "#         pickle.dump(obj, outp, pickle.HIGHEST_PROTOCOL)\n"
   ]
  },
  {
   "cell_type": "code",
   "execution_count": 49,
   "id": "51c4b9c0",
   "metadata": {},
   "outputs": [],
   "source": [
    "# save_object(store, '../save_local/long_term_memory_store.pkl')"
   ]
  },
  {
   "cell_type": "code",
   "execution_count": 50,
   "id": "c9ee5df5",
   "metadata": {},
   "outputs": [],
   "source": [
    "store1 = InMemoryStore(\n",
    "    index = {\"embed\": embeddings,\n",
    "    \"dim\" : 1536}\n",
    ")"
   ]
  },
  {
   "cell_type": "code",
   "execution_count": 51,
   "id": "dc0e573b",
   "metadata": {},
   "outputs": [],
   "source": [
    "store1._data.update(store._data)"
   ]
  },
  {
   "cell_type": "code",
   "execution_count": 52,
   "id": "b3d83a1c",
   "metadata": {},
   "outputs": [
    {
     "data": {
      "text/plain": [
       "defaultdict(dict,\n",
       "            {('user_1',\n",
       "              'memories'): {'1': Item(namespace=['user_1', 'memories'], key='1', value={'text': 'remember my name is Siddharth'}, created_at='2025-06-16T04:07:14.080809+00:00', updated_at='2025-06-16T04:07:14.080813+00:00'), '2': Item(namespace=['user_1', 'memories'], key='2', value={'text': 'also remember I am data scientist!'}, created_at='2025-06-16T04:07:19.454251+00:00', updated_at='2025-06-16T04:07:19.454259+00:00')}})"
      ]
     },
     "execution_count": 52,
     "metadata": {},
     "output_type": "execute_result"
    }
   ],
   "source": [
    "store1._data"
   ]
  },
  {
   "cell_type": "code",
   "execution_count": 53,
   "id": "81835948",
   "metadata": {},
   "outputs": [
    {
     "data": {
      "image/png": "[encoded data removed]",
      "text/plain": [
       "<langgraph.graph.state.CompiledStateGraph object at 0x1199e9ae0>"
      ]
     },
     "execution_count": 53,
     "metadata": {},
     "output_type": "execute_result"
    }
   ],
   "source": [
    "builder = StateGraph(MessagesState)\n",
    "builder.add_node(chat)\n",
    "builder.add_edge(START, \"chat\")\n",
    "graph  = builder.compile(store=store1)\n",
    "graph"
   ]
  },
  {
   "cell_type": "code",
   "execution_count": 54,
   "id": "1879a5cf",
   "metadata": {},
   "outputs": [
    {
     "name": "stdout",
     "output_type": "stream",
     "text": [
      "My message or my query content='also remember I work at JPMorgan!' additional_kwargs={} response_metadata={} id='9337927a-81e7-450b-b47c-a092a70eecbb'\n",
      "3\n",
      "also remember I work at JPMorgan!\n",
      "remember my name is Siddharth\n",
      "also remember I am data scientist!\n"
     ]
    },
    {
     "data": {
      "text/plain": [
       "{'messages': [HumanMessage(content='also remember I work at JPMorgan!', additional_kwargs={}, response_metadata={}, id='9337927a-81e7-450b-b47c-a092a70eecbb'),\n",
       "  AIMessage(content=\"Got it, I already have that remembered! If there's anything else you'd like me to keep in mind, let me know.\", additional_kwargs={'refusal': None}, response_metadata={'token_usage': {'completion_tokens': 25, 'prompt_tokens': 54, 'total_tokens': 79, 'completion_tokens_details': {'accepted_prediction_tokens': 0, 'audio_tokens': 0, 'reasoning_tokens': 0, 'rejected_prediction_tokens': 0}, 'prompt_tokens_details': {'audio_tokens': 0, 'cached_tokens': 0}}, 'model_name': 'gpt-4o-2024-08-06', 'system_fingerprint': 'fp_07871e2ad8', 'id': 'chatcmpl-BivQ9jZpNBuB5pq6qMGw5IVls5wgx', 'service_tier': 'default', 'finish_reason': 'stop', 'logprobs': None}, id='run--92a9e329-8ecf-4424-aaec-9b30d5dcfd76-0', usage_metadata={'input_tokens': 54, 'output_tokens': 25, 'total_tokens': 79, 'input_token_details': {'audio': 0, 'cache_read': 0}, 'output_token_details': {'audio': 0, 'reasoning': 0}})]}"
      ]
     },
     "execution_count": 54,
     "metadata": {},
     "output_type": "execute_result"
    }
   ],
   "source": [
    "graph.invoke(input = {\"messages\": [{\"role\": \"user\", \"content\" : \"also remember I work at JPMorgan!\"}]})"
   ]
  },
  {
   "cell_type": "code",
   "execution_count": null,
   "id": "96763a30",
   "metadata": {},
   "outputs": [],
   "source": []
  }
 ],
 "metadata": {
  "kernelspec": {
   "display_name": "AgenticAI-env",
   "language": "python",
   "name": "python3"
  },
  "language_info": {
   "codemirror_mode": {
    "name": "ipython",
    "version": 3
   },
   "file_extension": ".py",
   "mimetype": "text/x-python",
   "name": "python",
   "nbconvert_exporter": "python",
   "pygments_lexer": "ipython3",
   "version": "3.13.3"
  }
 },
 "nbformat": 4,
 "nbformat_minor": 5
}
